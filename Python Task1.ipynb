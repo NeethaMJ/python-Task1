{
 "cells": [
  {
   "cell_type": "markdown",
   "id": "c5303d9e",
   "metadata": {},
   "source": [
    "Python Task"
   ]
  },
  {
   "cell_type": "code",
   "execution_count": null,
   "id": "04745051",
   "metadata": {},
   "outputs": [],
   "source": [
    "Q1. Create a function which will take a list as an argument and return the product of all the numbers\n",
    "after creating a flat list.\n",
    "Use the below-given list as an argument for your function.\n",
    "list1 = [1,2,3,4, [44,55,66, True], False, (34,56,78,89,34), {1,2,3,3,2,1}, {1:34, \"key2\": [55, 67, 78, 89], 4: (45,\n",
    "22, 61, 34)}, [56, 'data science'], 'Machine Learning']\n",
    "\n",
    "Note: you must extract numeric keys and values of the dictionary also.\n",
    "    \n",
    "ANS "
   ]
  },
  {
   "cell_type": "code",
   "execution_count": 1,
   "id": "ae9a416d",
   "metadata": {},
   "outputs": [
    {
     "name": "stdout",
     "output_type": "stream",
     "text": [
      "0\n"
     ]
    }
   ],
   "source": [
    "from functools import reduce\n",
    "\n",
    "def flatten_list(input_list):\n",
    "    flat_list = []\n",
    "    \n",
    "    for item in input_list:\n",
    "        if isinstance(item, (list, tuple, set)):\n",
    "            flat_list.extend(flatten_list(item))\n",
    "        elif isinstance(item, dict):\n",
    "            for key, value in item.items():\n",
    "                if isinstance(key, (int, float)):\n",
    "                    flat_list.append(key)\n",
    "                if isinstance(value, (int, float)):\n",
    "                    flat_list.append(value)\n",
    "                elif isinstance(value, (list, tuple, set)):\n",
    "                    flat_list.extend(flatten_list(value))\n",
    "        elif isinstance(item, (int, float)):\n",
    "            flat_list.append(item)\n",
    "    \n",
    "    return flat_list\n",
    "\n",
    "def product_of_numbers(input_list):\n",
    "    flat_list = flatten_list(input_list)\n",
    "    product = reduce(lambda x, y: x * y, flat_list)\n",
    "    return product\n",
    "\n",
    "# Given list\n",
    "list1 = [\n",
    "    1, 2, 3, 4, [44, 55, 66, True], False, \n",
    "    (34, 56, 78, 89, 34), \n",
    "    {1, 2, 3, 3, 2, 1}, \n",
    "    {1: 34, \"key2\": [55, 67, 78, 89], 4: (45, 22, 61, 34)}, \n",
    "    [56, 'data science'], 'Machine Learning'\n",
    "]\n",
    "\n",
    "# Calling the function and printing the product\n",
    "result = product_of_numbers(list1)\n",
    "print(result)\n"
   ]
  },
  {
   "cell_type": "code",
   "execution_count": null,
   "id": "0a927778",
   "metadata": {},
   "outputs": [],
   "source": [
    "Q2. Write a python program for encrypting a message sent to you by your friend. The logic of encryption\n",
    "should be such that, for a the output should be z. For b, the output should be y. For c, the output should\n",
    "be x respectively. Also, the whitespace should be replaced with a dollar sign. Keep the punctuation\n",
    "marks unchanged.\n",
    "Input Sentence: I want to become a Data Scientist.\n",
    "Encrypt the above input sentence using the program you just created.\n",
    "Note: Convert the given input sentence into lowercase before encrypting. The final output should be\n",
    "lowercase."
   ]
  },
  {
   "cell_type": "code",
   "execution_count": 2,
   "id": "ab6c311d",
   "metadata": {},
   "outputs": [
    {
     "name": "stdout",
     "output_type": "stream",
     "text": [
      "r$dzmg$gl$yvxlnv$z$wzgz$hxrvmgrhg.\n"
     ]
    }
   ],
   "source": [
    "def encrypt_message(message):\n",
    "    # Create a dictionary for the letter substitution\n",
    "    substitution = {chr(i): chr(122 - (i - 97)) for i in range(97, 123)}\n",
    "    \n",
    "    # Replace spaces with dollar sign\n",
    "    substitution[' '] = '$'\n",
    "    \n",
    "    # Encrypt the message\n",
    "    encrypted_message = ''.join(substitution.get(char, char) for char in message.lower())\n",
    "    \n",
    "    return encrypted_message\n",
    "\n",
    "# Input sentence\n",
    "input_sentence = \"I want to become a Data Scientist.\"\n",
    "\n",
    "# Encrypt the sentence\n",
    "encrypted_sentence = encrypt_message(input_sentence)\n",
    "\n",
    "# Print the encrypted sentence\n",
    "print(encrypted_sentence)\n"
   ]
  },
  {
   "cell_type": "code",
   "execution_count": null,
   "id": "486ea0c8",
   "metadata": {},
   "outputs": [],
   "source": []
  }
 ],
 "metadata": {
  "kernelspec": {
   "display_name": "Python 3 (ipykernel)",
   "language": "python",
   "name": "python3"
  },
  "language_info": {
   "codemirror_mode": {
    "name": "ipython",
    "version": 3
   },
   "file_extension": ".py",
   "mimetype": "text/x-python",
   "name": "python",
   "nbconvert_exporter": "python",
   "pygments_lexer": "ipython3",
   "version": "3.11.4"
  }
 },
 "nbformat": 4,
 "nbformat_minor": 5
}
